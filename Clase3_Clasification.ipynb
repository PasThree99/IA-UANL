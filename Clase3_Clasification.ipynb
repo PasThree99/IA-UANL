{
  "nbformat": 4,
  "nbformat_minor": 0,
  "metadata": {
    "colab": {
      "name": "Clase3_Clasification.ipynb",
      "provenance": []
    },
    "kernelspec": {
      "name": "python3",
      "display_name": "Python 3"
    }
  },
  "cells": [
    {
      "cell_type": "code",
      "metadata": {
        "colab": {
          "base_uri": "https://localhost:8080/",
          "height": 265
        },
        "id": "RQLcU0TGoq-_",
        "outputId": "a507118a-9628-4106-ec57-ba4f4aeb43e0"
      },
      "source": [
        "import numpy as np\n",
        "import pandas as pd\n",
        "import matplotlib.pyplot as plt\n",
        "\n",
        "x=np.hstack((np.random.normal(2,3,20),np.random.normal(9,2,20)))\n",
        "y=np.hstack((np.zeros(20), np.ones(20)))\n",
        "a=np.random.normal(5,3,20)\n",
        "plt.scatter(x,y)\n",
        "plt.show()"
      ],
      "execution_count": null,
      "outputs": [
        {
          "output_type": "display_data",
          "data": {
            "image/png": "[encoded data removed]",
            "text/plain": [
              "<Figure size 432x288 with 1 Axes>"
            ]
          },
          "metadata": {
            "tags": [],
            "needs_background": "light"
          }
        }
      ]
    },
    {
      "cell_type": "code",
      "metadata": {
        "id": "d5z2XCsGt-Cg"
      },
      "source": [
        "def regresion_logistica(x,a_0,a_1):\n",
        "  return 1/(1+np.exp(-(a_0+a_1*x)))"
      ],
      "execution_count": null,
      "outputs": []
    },
    {
      "cell_type": "code",
      "metadata": {
        "colab": {
          "base_uri": "https://localhost:8080/",
          "height": 265
        },
        "id": "MLyff7WNupaZ",
        "outputId": "14479002-ba84-4ea2-b5b4-52821d75f739"
      },
      "source": [
        "pronostico=regresion_logistica(x,-8,2)\n",
        "\n",
        "plt.scatter(x,y)\n",
        "plt.scatter(x,pronostico,marker='x')\n",
        "plt.show()"
      ],
      "execution_count": null,
      "outputs": [
        {
          "output_type": "display_data",
          "data": {
            "image/png": "[encoded data removed]",
            "text/plain": [
              "<Figure size 432x288 with 1 Axes>"
            ]
          },
          "metadata": {
            "tags": [],
            "needs_background": "light"
          }
        }
      ]
    },
    {
      "cell_type": "code",
      "metadata": {
        "colab": {
          "base_uri": "https://localhost:8080/",
          "height": 419
        },
        "id": "L7P39dKcw4HC",
        "outputId": "4e5570b0-4b8b-4778-a97b-40ccaa468a34"
      },
      "source": [
        "from sklearn.datasets import load_iris as iris \n",
        "datos=iris()['data']\n",
        "datos=pd.DataFrame(datos,columns=['sep_l','sep_a','pet_l','pet_a'])\n",
        "datos['target']=iris()['target']\n",
        "datos"
      ],
      "execution_count": null,
      "outputs": [
        {
          "output_type": "execute_result",
          "data": {
            "text/html": [
              "<div>\n",
              "<style scoped>\n",
              "    .dataframe tbody tr th:only-of-type {\n",
              "        vertical-align: middle;\n",
              "    }\n",
              "\n",
              "    .dataframe tbody tr th {\n",
              "        vertical-align: top;\n",
              "    }\n",
              "\n",
              "    .dataframe thead th {\n",
              "        text-align: right;\n",
              "    }\n",
              "</style>\n",
              "<table border=\"1\" class=\"dataframe\">\n",
              "  <thead>\n",
              "    <tr style=\"text-align: right;\">\n",
              "      <th></th>\n",
              "      <th>sep_l</th>\n",
              "      <th>sep_a</th>\n",
              "      <th>pet_l</th>\n",
              "      <th>pet_a</th>\n",
              "      <th>target</th>\n",
              "    </tr>\n",
              "  </thead>\n",
              "  <tbody>\n",
              "    <tr>\n",
              "      <th>0</th>\n",
              "      <td>5.1</td>\n",
              "      <td>3.5</td>\n",
              "      <td>1.4</td>\n",
              "      <td>0.2</td>\n",
              "      <td>0</td>\n",
              "    </tr>\n",
              "    <tr>\n",
              "      <th>1</th>\n",
              "      <td>4.9</td>\n",
              "      <td>3.0</td>\n",
              "      <td>1.4</td>\n",
              "      <td>0.2</td>\n",
              "      <td>0</td>\n",
              "    </tr>\n",
              "    <tr>\n",
              "      <th>2</th>\n",
              "      <td>4.7</td>\n",
              "      <td>3.2</td>\n",
              "      <td>1.3</td>\n",
              "      <td>0.2</td>\n",
              "      <td>0</td>\n",
              "    </tr>\n",
              "    <tr>\n",
              "      <th>3</th>\n",
              "      <td>4.6</td>\n",
              "      <td>3.1</td>\n",
              "      <td>1.5</td>\n",
              "      <td>0.2</td>\n",
              "      <td>0</td>\n",
              "    </tr>\n",
              "    <tr>\n",
              "      <th>4</th>\n",
              "      <td>5.0</td>\n",
              "      <td>3.6</td>\n",
              "      <td>1.4</td>\n",
              "      <td>0.2</td>\n",
              "      <td>0</td>\n",
              "    </tr>\n",
              "    <tr>\n",
              "      <th>...</th>\n",
              "      <td>...</td>\n",
              "      <td>...</td>\n",
              "      <td>...</td>\n",
              "      <td>...</td>\n",
              "      <td>...</td>\n",
              "    </tr>\n",
              "    <tr>\n",
              "      <th>145</th>\n",
              "      <td>6.7</td>\n",
              "      <td>3.0</td>\n",
              "      <td>5.2</td>\n",
              "      <td>2.3</td>\n",
              "      <td>2</td>\n",
              "    </tr>\n",
              "    <tr>\n",
              "      <th>146</th>\n",
              "      <td>6.3</td>\n",
              "      <td>2.5</td>\n",
              "      <td>5.0</td>\n",
              "      <td>1.9</td>\n",
              "      <td>2</td>\n",
              "    </tr>\n",
              "    <tr>\n",
              "      <th>147</th>\n",
              "      <td>6.5</td>\n",
              "      <td>3.0</td>\n",
              "      <td>5.2</td>\n",
              "      <td>2.0</td>\n",
              "      <td>2</td>\n",
              "    </tr>\n",
              "    <tr>\n",
              "      <th>148</th>\n",
              "      <td>6.2</td>\n",
              "      <td>3.4</td>\n",
              "      <td>5.4</td>\n",
              "      <td>2.3</td>\n",
              "      <td>2</td>\n",
              "    </tr>\n",
              "    <tr>\n",
              "      <th>149</th>\n",
              "      <td>5.9</td>\n",
              "      <td>3.0</td>\n",
              "      <td>5.1</td>\n",
              "      <td>1.8</td>\n",
              "      <td>2</td>\n",
              "    </tr>\n",
              "  </tbody>\n",
              "</table>\n",
              "<p>150 rows × 5 columns</p>\n",
              "</div>"
            ],
            "text/plain": [
              "     sep_l  sep_a  pet_l  pet_a  target\n",
              "0      5.1    3.5    1.4    0.2       0\n",
              "1      4.9    3.0    1.4    0.2       0\n",
              "2      4.7    3.2    1.3    0.2       0\n",
              "3      4.6    3.1    1.5    0.2       0\n",
              "4      5.0    3.6    1.4    0.2       0\n",
              "..     ...    ...    ...    ...     ...\n",
              "145    6.7    3.0    5.2    2.3       2\n",
              "146    6.3    2.5    5.0    1.9       2\n",
              "147    6.5    3.0    5.2    2.0       2\n",
              "148    6.2    3.4    5.4    2.3       2\n",
              "149    5.9    3.0    5.1    1.8       2\n",
              "\n",
              "[150 rows x 5 columns]"
            ]
          },
          "metadata": {
            "tags": []
          },
          "execution_count": 46
        }
      ]
    },
    {
      "cell_type": "code",
      "metadata": {
        "id": "Kn5CaEAaymGS"
      },
      "source": [
        "import statsmodels.api as sm\n",
        "x=datos[['sep_l','sep_a','pet_l','pet_a']]\n",
        "y=datos[['target']]\n",
        "\n",
        "x=sm.add_constant(x)\n",
        "glm_binom=sm.GLM(y,x,family=sm.families.Binomial() )\n"
      ],
      "execution_count": null,
      "outputs": []
    },
    {
      "cell_type": "code",
      "metadata": {
        "colab": {
          "base_uri": "https://localhost:8080/",
          "height": 309
        },
        "id": "KIWrvPWt0C00",
        "outputId": "b58196d7-1e9f-417a-f098-7dc48ccfe163"
      },
      "source": [
        "from sklearn.model_selection import train_test_split as split \n",
        "#from sklearn.linear_model import LogisticRegression as LR\n",
        "from sklearn.neural_network import MLPClassifier as LR\n",
        "x=datos[['sep_l','sep_a','pet_l','pet_a']]\n",
        "y=datos[['target']]\n",
        "\n",
        "x_train,x_test,y_train,y_test=split(x,y,test_size=0.2)\n",
        "\n",
        "alg=LR()\n",
        "alg.fit(x_train,y_train)\n",
        "print(alg.score(x,y))\n",
        "datos['pronostico']=alg.predict(x)\n",
        "datos.head()\n"
      ],
      "execution_count": null,
      "outputs": [
        {
          "output_type": "stream",
          "text": [
            "0.9733333333333334\n"
          ],
          "name": "stdout"
        },
        {
          "output_type": "stream",
          "text": [
            "/usr/local/lib/python3.6/dist-packages/sklearn/neural_network/_multilayer_perceptron.py:934: DataConversionWarning: A column-vector y was passed when a 1d array was expected. Please change the shape of y to (n_samples, ), for example using ravel().\n",
            "  y = column_or_1d(y, warn=True)\n",
            "/usr/local/lib/python3.6/dist-packages/sklearn/neural_network/_multilayer_perceptron.py:571: ConvergenceWarning: Stochastic Optimizer: Maximum iterations (200) reached and the optimization hasn't converged yet.\n",
            "  % self.max_iter, ConvergenceWarning)\n"
          ],
          "name": "stderr"
        },
        {
          "output_type": "execute_result",
          "data": {
            "text/html": [
              "<div>\n",
              "<style scoped>\n",
              "    .dataframe tbody tr th:only-of-type {\n",
              "        vertical-align: middle;\n",
              "    }\n",
              "\n",
              "    .dataframe tbody tr th {\n",
              "        vertical-align: top;\n",
              "    }\n",
              "\n",
              "    .dataframe thead th {\n",
              "        text-align: right;\n",
              "    }\n",
              "</style>\n",
              "<table border=\"1\" class=\"dataframe\">\n",
              "  <thead>\n",
              "    <tr style=\"text-align: right;\">\n",
              "      <th></th>\n",
              "      <th>sep_l</th>\n",
              "      <th>sep_a</th>\n",
              "      <th>pet_l</th>\n",
              "      <th>pet_a</th>\n",
              "      <th>target</th>\n",
              "      <th>pronostico</th>\n",
              "      <th>t1</th>\n",
              "      <th>t2</th>\n",
              "    </tr>\n",
              "  </thead>\n",
              "  <tbody>\n",
              "    <tr>\n",
              "      <th>0</th>\n",
              "      <td>5.1</td>\n",
              "      <td>3.5</td>\n",
              "      <td>1.4</td>\n",
              "      <td>0.2</td>\n",
              "      <td>0</td>\n",
              "      <td>0</td>\n",
              "      <td>-2.684126</td>\n",
              "      <td>0.319397</td>\n",
              "    </tr>\n",
              "    <tr>\n",
              "      <th>1</th>\n",
              "      <td>4.9</td>\n",
              "      <td>3.0</td>\n",
              "      <td>1.4</td>\n",
              "      <td>0.2</td>\n",
              "      <td>0</td>\n",
              "      <td>0</td>\n",
              "      <td>-2.714142</td>\n",
              "      <td>-0.177001</td>\n",
              "    </tr>\n",
              "    <tr>\n",
              "      <th>2</th>\n",
              "      <td>4.7</td>\n",
              "      <td>3.2</td>\n",
              "      <td>1.3</td>\n",
              "      <td>0.2</td>\n",
              "      <td>0</td>\n",
              "      <td>0</td>\n",
              "      <td>-2.888991</td>\n",
              "      <td>-0.144949</td>\n",
              "    </tr>\n",
              "    <tr>\n",
              "      <th>3</th>\n",
              "      <td>4.6</td>\n",
              "      <td>3.1</td>\n",
              "      <td>1.5</td>\n",
              "      <td>0.2</td>\n",
              "      <td>0</td>\n",
              "      <td>0</td>\n",
              "      <td>-2.745343</td>\n",
              "      <td>-0.318299</td>\n",
              "    </tr>\n",
              "    <tr>\n",
              "      <th>4</th>\n",
              "      <td>5.0</td>\n",
              "      <td>3.6</td>\n",
              "      <td>1.4</td>\n",
              "      <td>0.2</td>\n",
              "      <td>0</td>\n",
              "      <td>0</td>\n",
              "      <td>-2.728717</td>\n",
              "      <td>0.326755</td>\n",
              "    </tr>\n",
              "  </tbody>\n",
              "</table>\n",
              "</div>"
            ],
            "text/plain": [
              "   sep_l  sep_a  pet_l  pet_a  target  pronostico        t1        t2\n",
              "0    5.1    3.5    1.4    0.2       0           0 -2.684126  0.319397\n",
              "1    4.9    3.0    1.4    0.2       0           0 -2.714142 -0.177001\n",
              "2    4.7    3.2    1.3    0.2       0           0 -2.888991 -0.144949\n",
              "3    4.6    3.1    1.5    0.2       0           0 -2.745343 -0.318299\n",
              "4    5.0    3.6    1.4    0.2       0           0 -2.728717  0.326755"
            ]
          },
          "metadata": {
            "tags": []
          },
          "execution_count": 55
        }
      ]
    },
    {
      "cell_type": "code",
      "metadata": {
        "colab": {
          "base_uri": "https://localhost:8080/",
          "height": 204
        },
        "id": "18BMtDVZ1h2V",
        "outputId": "fec17a0b-12c6-4ef5-b5c7-b68f6566944c"
      },
      "source": [
        "from sklearn.decomposition import PCA\n",
        "x=datos[['sep_l','sep_a','pet_l','pet_a']]\n",
        "alg2=PCA(n_components=2)\n",
        "alg2.fit(x)\n",
        "t=pd.DataFrame(alg2.transform(x),columns=['t1','t2'])\n",
        "datos=pd.concat((datos,t),axis=1)\n",
        "datos.head()"
      ],
      "execution_count": null,
      "outputs": [
        {
          "output_type": "execute_result",
          "data": {
            "text/html": [
              "<div>\n",
              "<style scoped>\n",
              "    .dataframe tbody tr th:only-of-type {\n",
              "        vertical-align: middle;\n",
              "    }\n",
              "\n",
              "    .dataframe tbody tr th {\n",
              "        vertical-align: top;\n",
              "    }\n",
              "\n",
              "    .dataframe thead th {\n",
              "        text-align: right;\n",
              "    }\n",
              "</style>\n",
              "<table border=\"1\" class=\"dataframe\">\n",
              "  <thead>\n",
              "    <tr style=\"text-align: right;\">\n",
              "      <th></th>\n",
              "      <th>sep_l</th>\n",
              "      <th>sep_a</th>\n",
              "      <th>pet_l</th>\n",
              "      <th>pet_a</th>\n",
              "      <th>target</th>\n",
              "      <th>pronostico</th>\n",
              "      <th>t1</th>\n",
              "      <th>t2</th>\n",
              "      <th>t1</th>\n",
              "      <th>t2</th>\n",
              "    </tr>\n",
              "  </thead>\n",
              "  <tbody>\n",
              "    <tr>\n",
              "      <th>0</th>\n",
              "      <td>5.1</td>\n",
              "      <td>3.5</td>\n",
              "      <td>1.4</td>\n",
              "      <td>0.2</td>\n",
              "      <td>0</td>\n",
              "      <td>0</td>\n",
              "      <td>-2.684126</td>\n",
              "      <td>0.319397</td>\n",
              "      <td>-2.684126</td>\n",
              "      <td>0.319397</td>\n",
              "    </tr>\n",
              "    <tr>\n",
              "      <th>1</th>\n",
              "      <td>4.9</td>\n",
              "      <td>3.0</td>\n",
              "      <td>1.4</td>\n",
              "      <td>0.2</td>\n",
              "      <td>0</td>\n",
              "      <td>0</td>\n",
              "      <td>-2.714142</td>\n",
              "      <td>-0.177001</td>\n",
              "      <td>-2.714142</td>\n",
              "      <td>-0.177001</td>\n",
              "    </tr>\n",
              "    <tr>\n",
              "      <th>2</th>\n",
              "      <td>4.7</td>\n",
              "      <td>3.2</td>\n",
              "      <td>1.3</td>\n",
              "      <td>0.2</td>\n",
              "      <td>0</td>\n",
              "      <td>0</td>\n",
              "      <td>-2.888991</td>\n",
              "      <td>-0.144949</td>\n",
              "      <td>-2.888991</td>\n",
              "      <td>-0.144949</td>\n",
              "    </tr>\n",
              "    <tr>\n",
              "      <th>3</th>\n",
              "      <td>4.6</td>\n",
              "      <td>3.1</td>\n",
              "      <td>1.5</td>\n",
              "      <td>0.2</td>\n",
              "      <td>0</td>\n",
              "      <td>0</td>\n",
              "      <td>-2.745343</td>\n",
              "      <td>-0.318299</td>\n",
              "      <td>-2.745343</td>\n",
              "      <td>-0.318299</td>\n",
              "    </tr>\n",
              "    <tr>\n",
              "      <th>4</th>\n",
              "      <td>5.0</td>\n",
              "      <td>3.6</td>\n",
              "      <td>1.4</td>\n",
              "      <td>0.2</td>\n",
              "      <td>0</td>\n",
              "      <td>0</td>\n",
              "      <td>-2.728717</td>\n",
              "      <td>0.326755</td>\n",
              "      <td>-2.728717</td>\n",
              "      <td>0.326755</td>\n",
              "    </tr>\n",
              "  </tbody>\n",
              "</table>\n",
              "</div>"
            ],
            "text/plain": [
              "   sep_l  sep_a  pet_l  pet_a  ...        t1        t2        t1        t2\n",
              "0    5.1    3.5    1.4    0.2  ... -2.684126  0.319397 -2.684126  0.319397\n",
              "1    4.9    3.0    1.4    0.2  ... -2.714142 -0.177001 -2.714142 -0.177001\n",
              "2    4.7    3.2    1.3    0.2  ... -2.888991 -0.144949 -2.888991 -0.144949\n",
              "3    4.6    3.1    1.5    0.2  ... -2.745343 -0.318299 -2.745343 -0.318299\n",
              "4    5.0    3.6    1.4    0.2  ... -2.728717  0.326755 -2.728717  0.326755\n",
              "\n",
              "[5 rows x 10 columns]"
            ]
          },
          "metadata": {
            "tags": []
          },
          "execution_count": 56
        }
      ]
    },
    {
      "cell_type": "code",
      "metadata": {
        "colab": {
          "base_uri": "https://localhost:8080/",
          "height": 269
        },
        "id": "cS-4qZUu38p7",
        "outputId": "4893905d-3c28-4d4b-89bd-e53af518584a"
      },
      "source": [
        "g0=datos[datos['target']==0]\n",
        "g1=datos[datos['target']==1]\n",
        "g2=datos[datos['target']==2]\n",
        "\n",
        "plt.scatter(g0['t1'],g0['t2'],label='clase0',color='g')\n",
        "plt.scatter(g1['t1'],g1['t2'],label='clase1',color='b')\n",
        "plt.scatter(g2['t1'],g2['t2'],label='clase2',color='r')\n",
        "\n",
        "g0=datos[datos['pronostico']==0]\n",
        "g1=datos[datos['pronostico']==1]\n",
        "g2=datos[datos['pronostico']==2]\n",
        "\n",
        "plt.scatter(g0['t1'],g0['t2'],label='clase0_pron',marker='x',color='g')\n",
        "plt.scatter(g1['t1'],g1['t2'],label='clase1_pron',marker='x',color='b')\n",
        "plt.scatter(g2['t1'],g2['t2'],label='clase2_pron',marker='x',color='r')\n",
        "plt.legend()\n",
        "plt.show()"
      ],
      "execution_count": null,
      "outputs": [
        {
          "output_type": "display_data",
          "data": {
            "image/png": "[encoded data removed]",
            "text/plain": [
              "<Figure size 432x288 with 1 Axes>"
            ]
          },
          "metadata": {
            "tags": [],
            "needs_background": "light"
          }
        }
      ]
    }
  ]
}